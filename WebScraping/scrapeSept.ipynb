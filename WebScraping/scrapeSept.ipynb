{
 "cells": [
  {
   "cell_type": "code",
   "execution_count": 30,
   "metadata": {},
   "outputs": [],
   "source": [
    "from bs4 import BeautifulSoup\n",
    "import urllib.request, urllib.parse, urllib.error\n",
    "import ssl\n",
    "import re\n",
    "import requests\n",
    "import wikipedia\n",
    "\n",
    "ctx = ssl.create_default_context()\n",
    "ctx.check_hostname = False\n",
    "ctx.verify_mode = ssl.CERT_NONE\n",
    "\n",
    "#url = input(\"URL - \")\n",
    "url = \"https://en.wikipedia.org/wiki/Chess\"\n",
    "html = urllib.request.urlopen(url, context=ctx).read()\n",
    "soup = BeautifulSoup(html, 'html.parser')"
   ]
  },
  {
   "cell_type": "code",
   "execution_count": 2,
   "metadata": {},
   "outputs": [
    {
     "name": "stdout",
     "output_type": "stream",
     "text": [
      "Chess - Wikipedia\n"
     ]
    }
   ],
   "source": [
    "print(soup.title.string)"
   ]
  },
  {
   "cell_type": "code",
   "execution_count": 3,
   "metadata": {},
   "outputs": [
    {
     "data": {
      "text/plain": [
       "'he second half of the 15th century after evolving from chaturanga, a similar but much older game of Indian origin. Today, chess is one of the world\\'s most popular games, played by millions of people worldwide.\\nChess is an abstract strategy game and involves no hidden information. It is played on a chessboard with 64 squares arranged in an eight-by-eight grid. At the start, each player controls sixteen pieces: one king, one queen, two rooks, two bishops, two knights, and eight pawns. The player controlling the white pieces moves first, followed by the player controlling the black pieces. The object of the game is to checkmate the opponent\\'s king, whereby the king is under immediate attack (in \"check\") and there is no way for it to escape. There are also several ways a game can end in a draw.\\nOrganized chess arose in the 19th century. Chess competition today is governed internationally by FIDE (International Chess Federation). The first universally recognized World Chess Champion, Wilhelm Steinitz, claimed his title in 1886; Magnus Carlsen is the current World Champion. A huge body of '"
      ]
     },
     "execution_count": 3,
     "metadata": {},
     "output_type": "execute_result"
    }
   ],
   "source": [
    "soup.get_text()[1000:2100]"
   ]
  },
  {
   "cell_type": "code",
   "execution_count": 7,
   "metadata": {},
   "outputs": [
    {
     "name": "stdout",
     "output_type": "stream",
     "text": [
      "Brass - Wikipedia BrassFrom Wikipedia, the free encyclopediaJump to navigationJump to searchAlloy of copper and zincFor other uses, see Brass (disambiguation).\"arsenical brass\" redirects here. Not to be confused with arsenical bronze or arsenical copper. Brass astrolabe Brass lectern with an eagle. Attributed to Aert van Tricht, Limburg (Netherlands), c. 1500.Brass is an alloy of copper (Cu) and zinc (Zn), in proportions which can be varied to achieve different mechanical, electrical, and chemic\n"
     ]
    }
   ],
   "source": [
    "url = 'https://en.wikipedia.org/wiki/Brass'\n",
    "page = requests.get(url)\n",
    "soup2 = BeautifulSoup(page.content, 'html.parser')\n",
    "text = soup2.get_text().replace(\"\\n\", \"\")\n",
    "print(text[0:500])"
   ]
  },
  {
   "cell_type": "code",
   "execution_count": 8,
   "metadata": {},
   "outputs": [
    {
     "name": "stdout",
     "output_type": "stream",
     "text": [
      "Brass - Wikipedia\n"
     ]
    }
   ],
   "source": [
    "print(soup2.title.string)"
   ]
  },
  {
   "cell_type": "code",
   "execution_count": 9,
   "metadata": {},
   "outputs": [
    {
     "name": "stdout",
     "output_type": "stream",
     "text": [
      "/wiki/Brass_instrument  || reconstruct = https://en.wikipedia.org/wiki/Brass_instrument\n",
      "/wiki/Horn_(instrument)  || reconstruct = https://en.wikipedia.org/wiki/Horn_(instrument)\n",
      "#Use_in_musical_instruments  || reconstruct = https://en.wikipedia.org#Use_in_musical_instruments\n",
      "/wiki/Musical_instrument  || reconstruct = https://en.wikipedia.org/wiki/Musical_instrument\n",
      "/wiki/Brass_instrument  || reconstruct = https://en.wikipedia.org/wiki/Brass_instrument\n",
      "/wiki/Horn_(instrument)  || reconstruct = https://en.wikipedia.org/wiki/Horn_(instrument)\n",
      "/wiki/Wind_instrument  || reconstruct = https://en.wikipedia.org/wiki/Wind_instrument\n",
      "/wiki/Percussion_instrument  || reconstruct = https://en.wikipedia.org/wiki/Percussion_instrument\n",
      "/wiki/Scientific_instruments  || reconstruct = https://en.wikipedia.org/wiki/Scientific_instruments\n"
     ]
    }
   ],
   "source": [
    "key = \"instrument\"\n",
    "tags = soup2('a')\n",
    "for tag in tags:\n",
    "    tag = str(tag.get('href', None))\n",
    "    found = re.findall(key, tag)\n",
    "    if(key in found):\n",
    "        print(tag, \" || reconstruct = \" + \"https://en.wikipedia.org\" + tag)"
   ]
  },
  {
   "cell_type": "code",
   "execution_count": 25,
   "metadata": {},
   "outputs": [
    {
     "data": {
      "text/plain": [
       "['Billie Holiday',\n",
       " 'The United States vs. Billie Holiday',\n",
       " 'Billie Holiday discography',\n",
       " 'Billie Holiday Sings',\n",
       " 'An Evening with Billie Holiday']"
      ]
     },
     "execution_count": 25,
     "metadata": {},
     "output_type": "execute_result"
    }
   ],
   "source": [
    "import wikipedia\n",
    "sch = wikipedia.search(\"Billie Holiday\")\n",
    "sch[0:5]"
   ]
  },
  {
   "cell_type": "code",
   "execution_count": 12,
   "metadata": {},
   "outputs": [
    {
     "data": {
      "text/plain": [
       "'try:\\n    p = wikipedia.page(sch[1])\\nexcept wikipedia.DisambiguationError as e:\\n    print(e.options)\\nwiki = wikipedia.page(sch[1])\\nwiki.summary\\n'"
      ]
     },
     "execution_count": 12,
     "metadata": {},
     "output_type": "execute_result"
    }
   ],
   "source": [
    "\"\"\"try:\n",
    "    p = wikipedia.page(sch[1])\n",
    "except wikipedia.DisambiguationError as e:\n",
    "    print(e.options)\n",
    "wiki = wikipedia.page(sch[1])\n",
    "wiki.summary\n",
    "\"\"\""
   ]
  },
  {
   "cell_type": "code",
   "execution_count": 35,
   "metadata": {},
   "outputs": [
    {
     "name": "stdout",
     "output_type": "stream",
     "text": [
      "John Coltrane - Wikipedia John ColtraneFrom Wikipedia, the free encyclopediaJump to navigationJump to searchAmerican jazz saxophonist (1926–1967)\"Coltrane\" redirects here. For other uses, see Coltrane (disambiguation).John ColtraneColtrane in 1963Background informationBirth nameJohn William ColtraneBorn(1926-09-23)September 23, 1926Hamlet, North Carolina, U.S.DiedJuly 17, 1967(1967-07-17) (aged 40)Huntington, New York, U.S.GenresHard bopmodal jazzfree jazzavant-garde jazzOccupation(s)Musiciancom\n"
     ]
    }
   ],
   "source": [
    "url = 'https://en.wikipedia.org/wiki/John_Coltrane'\n",
    "page = requests.get(url)\n",
    "soup2 = BeautifulSoup(page.content, 'html.parser')\n",
    "text = soup2.get_text().replace(\"\\n\", \"\")\n",
    "print(text[0:500])"
   ]
  },
  {
   "cell_type": "code",
   "execution_count": null,
   "metadata": {},
   "outputs": [],
   "source": []
  },
  {
   "cell_type": "code",
   "execution_count": null,
   "metadata": {},
   "outputs": [],
   "source": []
  }
 ],
 "metadata": {
  "kernelspec": {
   "display_name": "Python 3.10.5 64-bit",
   "language": "python",
   "name": "python3"
  },
  "language_info": {
   "codemirror_mode": {
    "name": "ipython",
    "version": 3
   },
   "file_extension": ".py",
   "mimetype": "text/x-python",
   "name": "python",
   "nbconvert_exporter": "python",
   "pygments_lexer": "ipython3",
   "version": "3.10.5"
  },
  "orig_nbformat": 4,
  "vscode": {
   "interpreter": {
    "hash": "c4430fd97cd006f29f8702b60907f16679b7c397f46241dbcd965544adaee22c"
   }
  }
 },
 "nbformat": 4,
 "nbformat_minor": 2
}
