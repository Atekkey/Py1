{
 "cells": [
  {
   "cell_type": "code",
   "execution_count": 20,
   "metadata": {},
   "outputs": [],
   "source": [
    "from bs4 import BeautifulSoup\n",
    "import urllib.request, urllib.parse, urllib.error\n",
    "import ssl\n",
    "import re\n",
    "import requests\n",
    "\n",
    "ctx = ssl.create_default_context()\n",
    "ctx.check_hostname = False\n",
    "ctx.verify_mode = ssl.CERT_NONE\n",
    "\n",
    "#url = input(\"URL - \")\n",
    "url = \"https://en.wikipedia.org/wiki/Chess\"\n",
    "html = urllib.request.urlopen(url, context=ctx).read()\n",
    "soup = BeautifulSoup(html, 'html.parser')"
   ]
  },
  {
   "cell_type": "code",
   "execution_count": 21,
   "metadata": {},
   "outputs": [
    {
     "name": "stdout",
     "output_type": "stream",
     "text": [
      "Chess - Wikipedia\n"
     ]
    }
   ],
   "source": [
    "print(soup.title.string)"
   ]
  },
  {
   "cell_type": "code",
   "execution_count": 22,
   "metadata": {},
   "outputs": [
    {
     "data": {
      "text/plain": [
       "'th century after evolving from chaturanga, a similar but much older game of Indian origin. Today, chess is one of the world\\'s most popular games, played by millions of people worldwide.\\nChess is an abstract strategy game and involves no hidden information. It is played on a square chessboard with 64 squares arranged in an eight-by-eight grid. At the start, each player (one controlling the white pieces, the other controlling the black pieces) controls sixteen pieces: one king, one queen, two rooks, two bishops, two knights, and eight pawns. The object of the game is to checkmate the opponent\\'s king, whereby the king is under immediate attack (in \"check\") and there is no way for it to escape. There are also several ways a game can end in a draw.\\nOrganized chess arose in the 19th century. Chess competition today is governed internationally by FIDE (International Chess Federation). The first universally recognized World Chess Champion, Wilhelm Steinitz, claimed his title in 1886; Magnus Carlsen is the current World Champion. A huge body of chess theory has developed since the game\\'s ince'"
      ]
     },
     "execution_count": 22,
     "metadata": {},
     "output_type": "execute_result"
    }
   ],
   "source": [
    "soup.get_text()[1000:2100]"
   ]
  },
  {
   "cell_type": "code",
   "execution_count": 29,
   "metadata": {},
   "outputs": [
    {
     "name": "stdout",
     "output_type": "stream",
     "text": [
      "Brass - WikipediaBrassFrom Wikipedia, the free encyclopediaJump to navigationJump to searchAlloy of copper and zincFor other uses, see Brass (disambiguation).\"arsenical brass\" redirects here. Not to be confused with arsenical bronze or arsenical copper. Brass astrolabe Brass lectern with an eagle. Attributed to Aert van Tricht, Limburg (Netherlands), c. 1500.Brass is an alloy of copper (Cu) and zinc (Zn), in proportions which can be varied to achieve varying mechanical, electrical, and chemical \n"
     ]
    }
   ],
   "source": [
    "url = 'https://en.wikipedia.org/wiki/Brass'\n",
    "page = requests.get(url)\n",
    "soup2 = BeautifulSoup(page.content, 'html.parser')\n",
    "text = soup2.get_text().replace(\"\\n\", \"\")\n",
    "print(text[0:500])"
   ]
  },
  {
   "cell_type": "code",
   "execution_count": 24,
   "metadata": {},
   "outputs": [
    {
     "name": "stdout",
     "output_type": "stream",
     "text": [
      "Brass - Wikipedia\n"
     ]
    }
   ],
   "source": [
    "print(soup2.title.string)"
   ]
  },
  {
   "cell_type": "code",
   "execution_count": 25,
   "metadata": {},
   "outputs": [
    {
     "name": "stdout",
     "output_type": "stream",
     "text": [
      "/wiki/Brass_instrument  || reconstruct = https://en.wikipedia.org/wiki/Brass_instrument\n",
      "/wiki/Horn_(instrument)  || reconstruct = https://en.wikipedia.org/wiki/Horn_(instrument)\n",
      "#Use_in_musical_instruments  || reconstruct = https://en.wikipedia.org#Use_in_musical_instruments\n",
      "/wiki/Musical_instrument  || reconstruct = https://en.wikipedia.org/wiki/Musical_instrument\n",
      "/wiki/Brass_instrument  || reconstruct = https://en.wikipedia.org/wiki/Brass_instrument\n",
      "/wiki/Horn_(instrument)  || reconstruct = https://en.wikipedia.org/wiki/Horn_(instrument)\n",
      "/wiki/Wind_instrument  || reconstruct = https://en.wikipedia.org/wiki/Wind_instrument\n",
      "/wiki/Percussion_instrument  || reconstruct = https://en.wikipedia.org/wiki/Percussion_instrument\n",
      "/wiki/Scientific_instruments  || reconstruct = https://en.wikipedia.org/wiki/Scientific_instruments\n"
     ]
    }
   ],
   "source": [
    "key = \"instrument\"\n",
    "tags = soup2('a')\n",
    "for tag in tags:\n",
    "    tag = str(tag.get('href', None))\n",
    "    found = re.findall(key, tag)\n",
    "    if(key in found):\n",
    "        print(tag, \" || reconstruct = \" + \"https://en.wikipedia.org\" + tag)"
   ]
  },
  {
   "cell_type": "code",
   "execution_count": 41,
   "metadata": {},
   "outputs": [
    {
     "data": {
      "text/plain": [
       "'Brass instrument'"
      ]
     },
     "execution_count": 41,
     "metadata": {},
     "output_type": "execute_result"
    }
   ],
   "source": [
    "import wikipedia\n",
    "sch = wikipedia.search(\"Brass\")\n",
    "sch[1]"
   ]
  },
  {
   "cell_type": "code",
   "execution_count": 45,
   "metadata": {},
   "outputs": [
    {
     "data": {
      "text/plain": [
       "'A brass instrument is a musical instrument that produces sound by sympathetic vibration of air in a tubular resonator in sympathy with the vibration of the player\\'s lips. Brass instruments are also called labrosones or labrophones, from Latin and Greek elements meaning \\'lip\\' and \\'sound\\'.\\nThere are several factors involved in producing different pitches on a brass instrument. Slides, valves, crooks (though they are rarely used today), or keys are used to change vibratory length of tubing, thus changing the available harmonic series, while the player\\'s embouchure, lip tension and air flow serve to select the specific harmonic produced from the available series.\\nThe view of most scholars (see organology) is that the term \"brass instrument\" should be defined by the way the sound is made, as above, and not by whether the instrument is actually made of brass. Thus one finds brass instruments made of wood, like the alphorn, the cornett, the serpent and the didgeridoo, while some woodwind instruments are made of brass, like the saxophone.'"
      ]
     },
     "execution_count": 45,
     "metadata": {},
     "output_type": "execute_result"
    }
   ],
   "source": [
    "try:\n",
    "    p = wikipedia.page(sch[1])\n",
    "except wikipedia.DisambiguationError as e:\n",
    "    print(e.options)\n",
    "wiki = wikipedia.page(sch[1])\n",
    "wiki.summary"
   ]
  },
  {
   "cell_type": "code",
   "execution_count": null,
   "metadata": {},
   "outputs": [],
   "source": []
  }
 ],
 "metadata": {
  "kernelspec": {
   "display_name": "Python 3.10.5 64-bit",
   "language": "python",
   "name": "python3"
  },
  "language_info": {
   "codemirror_mode": {
    "name": "ipython",
    "version": 3
   },
   "file_extension": ".py",
   "mimetype": "text/x-python",
   "name": "python",
   "nbconvert_exporter": "python",
   "pygments_lexer": "ipython3",
   "version": "3.10.5"
  },
  "orig_nbformat": 4,
  "vscode": {
   "interpreter": {
    "hash": "c4430fd97cd006f29f8702b60907f16679b7c397f46241dbcd965544adaee22c"
   }
  }
 },
 "nbformat": 4,
 "nbformat_minor": 2
}
